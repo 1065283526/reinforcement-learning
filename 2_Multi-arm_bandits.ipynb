{
 "cells": [
  {
   "cell_type": "markdown",
   "metadata": {},
   "source": [
    "# Multi-Arm Bandits\n",
    "\n",
    "A one-armed bandit is a slot machine that chooses a random number (positive meaning profit, negative meaning loss) from an internal probability distribution. This probability distribution is unknown to us, but by playing enough with the machine we can make estimates.\n",
    "\n",
    "In the multi-arm case, we can choose between several one-armed bandit machines, that all have their own internal probability distributions.\n",
    "If we play with all machines enough, we can find out which machine is the most profitable for us (*exploration*). Afterwards, we mostly play on that machine to try to maximize our profit (*exploitation*).\n",
    "\n",
    "The difficulty is that we need to find a good trade-off between exploration and exploitation. If the probability distributions of the bandits can change (*nonstationary distributions*), this makes the problem even more difficult."
   ]
  },
  {
   "cell_type": "code",
   "execution_count": null,
   "metadata": {
    "collapsed": true
   },
   "outputs": [],
   "source": [
    "%matplotlib inline"
   ]
  },
  {
   "cell_type": "code",
   "execution_count": null,
   "metadata": {
    "collapsed": true
   },
   "outputs": [],
   "source": [
    "import matplotlib.pyplot as plt"
   ]
  },
  {
   "cell_type": "markdown",
   "metadata": {},
   "source": [
    "All one-armed bandits that are simulated here follow normal distributions."
   ]
  },
  {
   "cell_type": "code",
   "execution_count": null,
   "metadata": {
    "collapsed": true
   },
   "outputs": [],
   "source": [
    "from random import normalvariate\n",
    "\n",
    "class ArmedBandit:\n",
    "    def __init__(self, mean, variance):\n",
    "        self.mean = mean\n",
    "        self.variance = variance\n",
    "        \n",
    "    def sample(self):\n",
    "        return normalvariate(self.mean, self.variance)"
   ]
  },
  {
   "cell_type": "markdown",
   "metadata": {},
   "source": [
    "A bandit ensemble is just a collection of bandits (i.e. a *multi-armed bandit*)."
   ]
  },
  {
   "cell_type": "code",
   "execution_count": null,
   "metadata": {
    "collapsed": true
   },
   "outputs": [],
   "source": [
    "import numpy as np\n",
    "from random import random, randint\n",
    "\n",
    "class BanditEnsemble:\n",
    "    def __init__(self, num_bandits, Bandit=ArmedBandit):\n",
    "        self.num_bandits = num_bandits\n",
    "        self.bandits = []\n",
    "        \n",
    "        for i in range(num_bandits):\n",
    "            mean = random() * 3\n",
    "            variance = 1\n",
    "            bandit = Bandit(mean, variance)\n",
    "            self.bandits.append(bandit)\n",
    "            \n",
    "    def sample(self, i):\n",
    "        return self.bandits[i].sample()\n",
    "    \n",
    "    def __len__(self):\n",
    "        return self.num_bandits\n",
    "    \n",
    "    def random_bandit(self):\n",
    "        return randint(0, self.num_bandits - 1)"
   ]
  },
  {
   "cell_type": "markdown",
   "metadata": {},
   "source": [
    "The `Game` class evaluates a collection of players and plots their accumulated reward."
   ]
  },
  {
   "cell_type": "code",
   "execution_count": null,
   "metadata": {
    "collapsed": false
   },
   "outputs": [],
   "source": [
    "from time import time\n",
    "\n",
    "class Game:\n",
    "    def __init__(self, player_generators, Bandit=ArmedBandit):\n",
    "        self.player_generators = player_generators\n",
    "        self.Bandit = Bandit\n",
    "        \n",
    "    def play(self, num_bandits, num_games, num_iterations):\n",
    "        t = time()\n",
    "        \n",
    "        num_players = len(self.player_generators)\n",
    "        values = [[0] * num_iterations for _ in range(num_players)]\n",
    "        \n",
    "        for _ in range(num_games):\n",
    "            bandits = BanditEnsemble(num_bandits=num_bandits, Bandit=self.Bandit)    \n",
    "            players = [gen(bandits) for gen in self.player_generators]\n",
    "            value = [0] * num_players\n",
    "\n",
    "            for i in range(num_iterations):\n",
    "                for j, player in enumerate(players):\n",
    "                    reward = player.play()\n",
    "                    val = value[j] + reward\n",
    "                    values[j][i] += val\n",
    "                    value[j] = val\n",
    "\n",
    "        for j, player in enumerate(players):\n",
    "            label = str(player)\n",
    "            plt.plot(values[j], label=label)\n",
    "\n",
    "        plt.legend(loc='upper left')\n",
    "        plt.xlabel('time units')\n",
    "        plt.ylabel('accumulated reward')\n",
    "        plt.title(\"%d bandits, %d games, %d time units (generated in %.2fsec)\" % (num_bandits, num_games, num_iterations, time() - t), y=1.08)\n",
    "        plt.show()"
   ]
  },
  {
   "cell_type": "markdown",
   "metadata": {},
   "source": [
    "## $\\epsilon$-Greedy Strategy\n",
    "\n",
    "\n",
    "The `EpsilonGreedyPlayer` chooses the bandit that we currently consider to be the best with a probability of $1 - \\epsilon$, and a random bandit otherwise. Ties are broken using a random choice."
   ]
  },
  {
   "cell_type": "code",
   "execution_count": null,
   "metadata": {
    "collapsed": false
   },
   "outputs": [],
   "source": [
    "class EpsilonGreedyPlayer:\n",
    "    def __init__(self, bandits, epsilon, initial=0):\n",
    "        self.bandits = bandits\n",
    "        self.epsilon = epsilon\n",
    "        self.initial = initial\n",
    "        \n",
    "        n = len(bandits)\n",
    "        self.expected = [initial] * n\n",
    "        self.num_played = [0] * n\n",
    "        \n",
    "    def play(self):\n",
    "        if random() > self.epsilon:\n",
    "            bandit_i = np.argmax(self.expected)\n",
    "        else:\n",
    "            bandit_i = self.bandits.random_bandit()\n",
    "            \n",
    "        reward = self.bandits.sample(bandit_i)\n",
    "        self.num_played[bandit_i] += 1       \n",
    "        alpha = 1. / self.num_played[bandit_i]\n",
    "        \n",
    "        self._adapt_expected_reward(bandit_i, reward, alpha)\n",
    "                    \n",
    "        return reward\n",
    "    \n",
    "    def _adapt_expected_reward(self, bandit_i, reward, alpha):\n",
    "        expected_reward = self.expected[bandit_i]\n",
    "        self.expected[bandit_i] = expected_reward + alpha * (reward - expected_reward)\n",
    "    \n",
    "    def __str__(self):\n",
    "        return \"greedy(epsilon=%.3f, initial=%d)\" % (self.epsilon, self.initial)"
   ]
  },
  {
   "cell_type": "markdown",
   "metadata": {},
   "source": [
    "In the case of $\\epsilon = 0$ we always play the first bandit that gave us a positive reward. In the case of $\\epsilon = 1$ we always play a random bandit. Of course $\\epsilon = 0.1$ is superior to both."
   ]
  },
  {
   "cell_type": "code",
   "execution_count": null,
   "metadata": {
    "collapsed": false
   },
   "outputs": [],
   "source": [
    "players = [\n",
    "    lambda bandits: EpsilonGreedyPlayer(bandits, epsilon=1),\n",
    "    lambda bandits: EpsilonGreedyPlayer(bandits, epsilon=0.1),\n",
    "    lambda bandits: EpsilonGreedyPlayer(bandits, epsilon=0.01),\n",
    "    lambda bandits: EpsilonGreedyPlayer(bandits, epsilon=0)\n",
    "]\n",
    "\n",
    "game = Game(players)\n",
    "game.play(num_bandits=10, num_games=200, num_iterations=1000)"
   ]
  },
  {
   "cell_type": "markdown",
   "metadata": {},
   "source": [
    "## Optimistic Initial Values"
   ]
  },
  {
   "cell_type": "markdown",
   "metadata": {},
   "source": [
    "In this stationary distribution case, $\\epsilon$ is not really necessary if we take some time to explore all bandits in the beginning. This can be done by setting the initial expected reward for each bandit to a high positive value (like $20$). This makes us explore all bandits until the expected rewards adapt more to their true values.\n",
    "\n",
    "As we can see this works very well here."
   ]
  },
  {
   "cell_type": "code",
   "execution_count": 179,
   "metadata": {
    "collapsed": false
   },
   "outputs": [
    {
     "data": {
      "image/png": "[encoded data removed]",
      "text/plain": [
       "<matplotlib.figure.Figure at 0x11262cb50>"
      ]
     },
     "metadata": {},
     "output_type": "display_data"
    }
   ],
   "source": [
    "players = [\n",
    "    lambda bandits: EpsilonGreedyPlayer(bandits, epsilon=0.1),\n",
    "    lambda bandits: EpsilonGreedyPlayer(bandits, epsilon=0.01),\n",
    "    lambda bandits: EpsilonGreedyPlayer(bandits, epsilon=0, initial=20)\n",
    "]\n",
    "\n",
    "game = Game(players)\n",
    "game.play(num_bandits=10, num_games=200, num_iterations=1000)"
   ]
  },
  {
   "cell_type": "markdown",
   "metadata": {
    "collapsed": true
   },
   "source": [
    "## Nonstationary Distributions"
   ]
  },
  {
   "cell_type": "code",
   "execution_count": null,
   "metadata": {
    "collapsed": true
   },
   "outputs": [],
   "source": [
    "from random import random, normalvariate\n",
    "\n",
    "class UnreliableArmedBandit:\n",
    "    def __init__(self, mean, variance):\n",
    "        self.mean = mean\n",
    "        self.variance = variance\n",
    "        \n",
    "    def sample(self):\n",
    "        if random() > 0.95:\n",
    "            self.mean = random() * 10\n",
    "            self.variance = 1\n",
    "            \n",
    "        return normalvariate(self.mean, self.variance)"
   ]
  },
  {
   "cell_type": "code",
   "execution_count": null,
   "metadata": {
    "collapsed": false
   },
   "outputs": [],
   "source": [
    "players = [\n",
    "    lambda bandits: EpsilonGreedyPlayer(bandits, epsilon=0.1),\n",
    "    lambda bandits: EpsilonGreedyPlayer(bandits, epsilon=0.01),\n",
    "    lambda bandits: EpsilonGreedyPlayer(bandits, epsilon=0, initial=20)\n",
    "]\n",
    "\n",
    "game = Game(players, Bandit=UnreliableArmedBandit)\n",
    "game.play(num_bandits=10, num_games=50, num_iterations=1000)"
   ]
  },
  {
   "cell_type": "markdown",
   "metadata": {},
   "source": [
    "## Upper-Confidence-Bound Action Selection"
   ]
  },
  {
   "cell_type": "code",
   "execution_count": null,
   "metadata": {
    "collapsed": true
   },
   "outputs": [],
   "source": []
  },
  {
   "cell_type": "markdown",
   "metadata": {},
   "source": [
    "## Gradient Optimization"
   ]
  },
  {
   "cell_type": "code",
   "execution_count": null,
   "metadata": {
    "collapsed": true
   },
   "outputs": [],
   "source": []
  }
 ],
 "metadata": {
  "kernelspec": {
   "display_name": "Python 2",
   "language": "python",
   "name": "python2"
  },
  "language_info": {
   "codemirror_mode": {
    "name": "ipython",
    "version": 2
   },
   "file_extension": ".py",
   "mimetype": "text/x-python",
   "name": "python",
   "nbconvert_exporter": "python",
   "pygments_lexer": "ipython2",
   "version": "2.7.11"
  }
 },
 "nbformat": 4,
 "nbformat_minor": 0
}
